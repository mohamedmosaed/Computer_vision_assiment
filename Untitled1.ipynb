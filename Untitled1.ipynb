{
 "cells": [
  {
   "cell_type": "code",
   "execution_count": 39,
   "id": "00483777",
   "metadata": {},
   "outputs": [],
   "source": [
    "import numpy as np\n",
    "inputArray = np.array([3, 6, -2, -5, 7, 3])"
   ]
  },
  {
   "cell_type": "code",
   "execution_count": 50,
   "id": "6c39afc7",
   "metadata": {},
   "outputs": [
    {
     "name": "stdout",
     "output_type": "stream",
     "text": [
      "18\n",
      "-12\n",
      "10\n",
      "-35\n",
      "21\n"
     ]
    }
   ],
   "source": [
    "for a, b in zip(inputArray, inputArray[1:]):\n",
    "        g =a * b\n",
    "        print(g)"
   ]
  },
  {
   "cell_type": "code",
   "execution_count": 46,
   "id": "26f8fc2b",
   "metadata": {},
   "outputs": [
    {
     "data": {
      "text/plain": [
       "12"
      ]
     },
     "execution_count": 46,
     "metadata": {},
     "output_type": "execute_result"
    }
   ],
   "source": [
    "g"
   ]
  },
  {
   "cell_type": "code",
   "execution_count": null,
   "id": "852905f4",
   "metadata": {},
   "outputs": [],
   "source": []
  }
 ],
 "metadata": {
  "kernelspec": {
   "display_name": "Python 3",
   "language": "python",
   "name": "python3"
  },
  "language_info": {
   "codemirror_mode": {
    "name": "ipython",
    "version": 3
   },
   "file_extension": ".py",
   "mimetype": "text/x-python",
   "name": "python",
   "nbconvert_exporter": "python",
   "pygments_lexer": "ipython3",
   "version": "3.8.8"
  }
 },
 "nbformat": 4,
 "nbformat_minor": 5
}
