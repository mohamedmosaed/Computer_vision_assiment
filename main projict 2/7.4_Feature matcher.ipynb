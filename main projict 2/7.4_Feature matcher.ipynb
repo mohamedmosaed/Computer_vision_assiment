{
 "cells": [
  {
   "cell_type": "markdown",
   "id": "724b301d",
   "metadata": {},
   "source": [
    "### Libarary"
   ]
  },
  {
   "cell_type": "code",
   "execution_count": 1,
   "id": "f2fcd073",
   "metadata": {},
   "outputs": [],
   "source": [
    "from PIL import Image, ImageDraw\n",
    "import cv2\n",
    "from matplotlib import pyplot as plt"
   ]
  },
  {
   "cell_type": "markdown",
   "id": "2e6f5ab2",
   "metadata": {},
   "source": [
    "### import images"
   ]
  },
  {
   "cell_type": "code",
   "execution_count": 2,
   "id": "09520da7",
   "metadata": {},
   "outputs": [],
   "source": [
    "# images path\n",
    "path1 = 'C:\\\\Users\\\\mosae\\\\USD Workes\\\\AAI 521 Intro to Computer Vision\\\\main projict 2\\\\IMG_2277_size500.png'\n",
    "path2 = 'C:\\\\Users\\\\mosae\\\\USD Workes\\\\AAI 521 Intro to Computer Vision\\\\main projict 2\\\\IMG_2276_size500.png'"
   ]
  },
  {
   "cell_type": "code",
   "execution_count": 3,
   "id": "753b33be",
   "metadata": {},
   "outputs": [
    {
     "name": "stdout",
     "output_type": "stream",
     "text": [
      "image 1 :<class 'numpy.ndarray'>\n",
      "image 2 :<class 'numpy.ndarray'>\n"
     ]
    }
   ],
   "source": [
    "# insure the image will be read as a numpy.ndarray\n",
    "print(f'image 1 :{type(cv2.imread(path1))}')\n",
    "print(f'image 2 :{type(cv2.imread(path2))}')"
   ]
  },
  {
   "cell_type": "code",
   "execution_count": 4,
   "id": "1ba592fd",
   "metadata": {},
   "outputs": [],
   "source": [
    "img1 = cv2.imread(path1)\n",
    "img2 = cv2.imread(path2)"
   ]
  },
  {
   "cell_type": "code",
   "execution_count": 5,
   "id": "eaf60a5f",
   "metadata": {},
   "outputs": [],
   "source": [
    "# Create our ORB detector and detect keypoints and descriptors\n",
    "orb = cv2.ORB_create()"
   ]
  },
  {
   "cell_type": "code",
   "execution_count": 6,
   "id": "3e2ea01b",
   "metadata": {},
   "outputs": [],
   "source": [
    "# Find keypoints and descriptors with ORB\n",
    "keypoints1, descriptors1 = orb.detectAndCompute(img1, None)\n",
    "keypoints2, descriptors2 = orb.detectAndCompute(img2, None)"
   ]
  },
  {
   "cell_type": "code",
   "execution_count": 7,
   "id": "69199d0d",
   "metadata": {},
   "outputs": [],
   "source": [
    "# Create a BFMatcher object.\n",
    "# It will find all of the matching keypoints on two images\n",
    "bf_matcher = cv2.BFMatcher_create(cv2.NORM_HAMMING,crossCheck=True)"
   ]
  },
  {
   "cell_type": "code",
   "execution_count": 8,
   "id": "99dfbc57",
   "metadata": {},
   "outputs": [],
   "source": [
    "# checking where the matches occur using \".match()\"\n",
    "matches_location = bf_matcher.match(descriptors1, descriptors2)"
   ]
  },
  {
   "cell_type": "code",
   "execution_count": 9,
   "id": "6eed6cd1",
   "metadata": {},
   "outputs": [],
   "source": [
    "# sort the matching location according to their distance\n",
    "matches_location = sorted(matches_location,key=lambda x:x.distance)"
   ]
  },
  {
   "cell_type": "code",
   "execution_count": 10,
   "id": "43c37f7c",
   "metadata": {},
   "outputs": [],
   "source": [
    "# drawing the matcheing using the function draw_matches()\n",
    "ORB_matches =cv2.drawMatches(img1, keypoints1, img2, keypoints2, matches_location[:30], None)"
   ]
  },
  {
   "cell_type": "code",
   "execution_count": 16,
   "id": "724e0dcb",
   "metadata": {},
   "outputs": [
    {
     "data": {
      "text/plain": [
       "True"
      ]
     },
     "execution_count": 16,
     "metadata": {},
     "output_type": "execute_result"
    }
   ],
   "source": [
    "cv2.imshow(\"display\", ORB_matches)\n",
    "cv2.waitKey(0)\n",
    "cv2.imwrite('final_output.png', ORB_matches)"
   ]
  },
  {
   "cell_type": "code",
   "execution_count": null,
   "id": "f60ffa21",
   "metadata": {},
   "outputs": [],
   "source": []
  }
 ],
 "metadata": {
  "kernelspec": {
   "display_name": "Python 3",
   "language": "python",
   "name": "python3"
  },
  "language_info": {
   "codemirror_mode": {
    "name": "ipython",
    "version": 3
   },
   "file_extension": ".py",
   "mimetype": "text/x-python",
   "name": "python",
   "nbconvert_exporter": "python",
   "pygments_lexer": "ipython3",
   "version": "3.8.8"
  }
 },
 "nbformat": 4,
 "nbformat_minor": 5
}
