{
 "cells": [
  {
   "cell_type": "code",
   "execution_count": 1,
   "id": "d3009012",
   "metadata": {},
   "outputs": [],
   "source": [
    "from PIL import Image, ImageDraw\n",
    "import pandas as pd\n",
    "import numpy as np\n",
    "import zipfile\n",
    "import matplotlib.pyplot as plt\n",
    "from sklearn.model_selection import train_test_split\n",
    "\n",
    "\n",
    "import torch\n",
    "import torchvision\n",
    "from torch import nn\n",
    "import torchvision.transforms as transforms\n",
    "import torch.nn.functional as F\n",
    "import torch.optim as optim\n",
    "from torch.autograd import Variable\n",
    "from sklearn.metrics import accuracy_score"
   ]
  },
  {
   "cell_type": "code",
   "execution_count": 2,
   "id": "93478041",
   "metadata": {},
   "outputs": [],
   "source": [
    "def read_zip(zipfile_str):\n",
    "    \"\"\"this function will taked a zipfile and return a list of image\"\"\"\n",
    "    imgzip = zipfile.ZipFile(zipfile_str)\n",
    "    inflist = imgzip.infolist()\n",
    "    image_list =[]\n",
    "    \n",
    "    for f in inflist:\n",
    "        ifile = imgzip.open(f)\n",
    "        img = Image.open(ifile)\n",
    "        image_list.append(img)\n",
    "        \n",
    "    return image_list"
   ]
  },
  {
   "cell_type": "code",
   "execution_count": 3,
   "id": "4798e64c",
   "metadata": {},
   "outputs": [],
   "source": [
    "def diget_list(images):\n",
    "    \"\"\"\n",
    "    this function take an image and corp it to 9 smal images,\n",
    "    it return a list of images\n",
    "    \"\"\"\n",
    "    image = images.save('images.png')\n",
    "    image = images.resize((int(1500),int(1500)))\n",
    "\n",
    "    x = 0\n",
    "    y = 0\n",
    "    h = 500\n",
    "    w = 500\n",
    "    image_list = []\n",
    "    for i in range(9):\n",
    "        diget_image=image.crop((x,y,x+w,y+h))\n",
    "        if x+w >= image.width:\n",
    "            x = 0\n",
    "            y = y + h\n",
    "        else:\n",
    "            x=x+500\n",
    "        diget_image = diget_image.resize((int(28),int(28)))\n",
    "        image_list.append(diget_image)\n",
    "    return image_list"
   ]
  },
  {
   "cell_type": "code",
   "execution_count": 4,
   "id": "d60f6428",
   "metadata": {},
   "outputs": [],
   "source": [
    "images = read_zip('IMG_diget.zip') # get a listof the images\n",
    "final_image_list =[]\n",
    "for image in images: # a for loop to get the 90 image in one list \n",
    "    image_list = diget_list(image)\n",
    "    final_image_list = final_image_list + image_list\n",
    "\n",
    "# creat a dataframe of the list\n",
    "image_dataFrame = pd.DataFrame(data =final_image_list, columns =['images'])"
   ]
  },
  {
   "cell_type": "code",
   "execution_count": 5,
   "id": "1aeeb5f1",
   "metadata": {},
   "outputs": [],
   "source": [
    "# creat a list of the label\n",
    "g = 0\n",
    "n = 0\n",
    "label_list =[]\n",
    "for i in range(100):\n",
    "    if g < 9:\n",
    "        label_list.append(n)\n",
    "        g = g+1\n",
    "    else:\n",
    "        n = n+1\n",
    "        g = 0\n",
    "# add the label column\n",
    "image_dataFrame['Label'] = label_list   "
   ]
  },
  {
   "cell_type": "code",
   "execution_count": 6,
   "id": "a53888d7",
   "metadata": {},
   "outputs": [],
   "source": [
    "#  shuffle your dataframe\n",
    "image_dataFrame = image_dataFrame.sample(frac=1, random_state=42).reset_index(drop=True)"
   ]
  },
  {
   "cell_type": "code",
   "execution_count": 7,
   "id": "2fd51441",
   "metadata": {},
   "outputs": [
    {
     "data": {
      "image/png": "[encoded data removed]",
      "text/plain": [
       "<Figure size 432x288 with 9 Axes>"
      ]
     },
     "metadata": {
      "needs_background": "light"
     },
     "output_type": "display_data"
    }
   ],
   "source": [
    "for i in range(9):\n",
    "    # define subplot\n",
    "    plt.subplot(330 + 1 + i)\n",
    "    # plot raw pixel data\n",
    "    plt.imshow(image_dataFrame['images'][i], cmap=plt.get_cmap('gray'))\n",
    "# show the figure\n",
    "plt.show()"
   ]
  },
  {
   "cell_type": "markdown",
   "id": "38e5de46",
   "metadata": {},
   "source": [
    "#### transform image to Tensors of normalized range."
   ]
  },
  {
   "cell_type": "code",
   "execution_count": 14,
   "id": "6afeb122",
   "metadata": {},
   "outputs": [],
   "source": [
    "X=[]\n",
    "y=[]\n",
    "for i in image_dataFrame['images']:\n",
    "    i = i.convert('L')\n",
    "    X.append(np.array(i))\n",
    "\n",
    "for i in image_dataFrame['Label']:\n",
    "    y.append(i)"
   ]
  },
  {
   "cell_type": "code",
   "execution_count": 15,
   "id": "44e85b18",
   "metadata": {},
   "outputs": [
    {
     "data": {
      "text/plain": [
       "list"
      ]
     },
     "execution_count": 15,
     "metadata": {},
     "output_type": "execute_result"
    }
   ],
   "source": [
    "type(X)"
   ]
  },
  {
   "cell_type": "code",
   "execution_count": 16,
   "id": "69c0d871",
   "metadata": {},
   "outputs": [],
   "source": [
    "X_train, X_test, Y_train, Y_test = train_test_split(X, y, test_size= 0.2)"
   ]
  },
  {
   "cell_type": "code",
   "execution_count": 17,
   "id": "b243ec07",
   "metadata": {},
   "outputs": [],
   "source": [
    "# convert image aray to tourch.tensor\n",
    "X_train = torch.Tensor(X_train)\n",
    "X_test = torch.Tensor(X_test)\n",
    "Y_train = torch.Tensor(Y_train)\n",
    "Y_test = torch.Tensor(Y_test)"
   ]
  },
  {
   "cell_type": "code",
   "execution_count": 19,
   "id": "1ccd061f",
   "metadata": {},
   "outputs": [],
   "source": [
    "# reshaping the data to fit the model\n",
    "X_train = X_train.reshape(72, 1, 28, 28)\n",
    "X_test = X_test.reshape(18, 1, 28, 28)"
   ]
  },
  {
   "cell_type": "code",
   "execution_count": 20,
   "id": "1f48be3c",
   "metadata": {},
   "outputs": [
    {
     "name": "stdout",
     "output_type": "stream",
     "text": [
      "X_train type is <class 'torch.Tensor'>, y_train type is <class 'torch.Tensor'>\n",
      "X_test type is <class 'torch.Tensor'>, y_test type is <class 'torch.Tensor'>\n"
     ]
    }
   ],
   "source": [
    "print(f\"X_train type is {type(X_train)}, y_train type is {type(Y_train)}\")\n",
    "print(f\"X_test type is {type(X_test)}, y_test type is {type(Y_test)}\")"
   ]
  },
  {
   "cell_type": "markdown",
   "id": "04ed9dd2",
   "metadata": {},
   "source": [
    "### Define and intialize the neural network"
   ]
  },
  {
   "cell_type": "code",
   "execution_count": 21,
   "id": "1d0b5b70",
   "metadata": {},
   "outputs": [],
   "source": [
    "class Net(nn.Module):\n",
    "    def __init__(self):\n",
    "        super(Net, self).__init__()\n",
    "        self.layer1 = nn.Sequential(\n",
    "            nn.Conv2d(1, 32, 3, 1),\n",
    "        )\n",
    "        self.layer2 = nn.Sequential(\n",
    "            nn.Conv2d(32, 64, 3, 1),\n",
    "        )\n",
    "\n",
    "        self.dropout1 = nn.Dropout2d(0.25)\n",
    "        self.dropout2 = nn.Dropout2d(0.5)\n",
    "\n",
    "        # First fully connected layer\n",
    "        self.fc1 = nn.Linear(9216, 128)\n",
    "        # Second fully connected layer\n",
    "        self.fc2 = nn.Linear(128, 10)\n",
    "        \n",
    "        \n",
    "    def forward(self, x):\n",
    "        # Pass data through conv1\n",
    "        x = self.layer1(x)\n",
    "        # Use the ReLU activation function\n",
    "        x = F.relu(x)\n",
    "        # Pass data through conv2\n",
    "        x = self.layer2(x)\n",
    "        x = F.relu(x)\n",
    "        # Run max pooling over x\n",
    "        x = F.max_pool2d(x, 2)\n",
    "        # Pass data through dropout1\n",
    "        x = self.dropout1(x)\n",
    "        x = self.dropout2(x)\n",
    "        # Flatten x with start_dim=1\n",
    "        x = torch.flatten(x, 1)\n",
    "        # Pass data through fc1\n",
    "        x = self.fc1(x)\n",
    "        x = F.relu(x)\n",
    "        x = self.dropout2(x)\n",
    "        x = self.fc2(x)\n",
    "\n",
    "        # Apply softmax to x\n",
    "        output = F.log_softmax(x, dim=1)\n",
    "        return output\n",
    "    "
   ]
  },
  {
   "cell_type": "code",
   "execution_count": 22,
   "id": "fea35753",
   "metadata": {},
   "outputs": [
    {
     "name": "stdout",
     "output_type": "stream",
     "text": [
      "Net(\n",
      "  (layer1): Sequential(\n",
      "    (0): Conv2d(1, 32, kernel_size=(3, 3), stride=(1, 1))\n",
      "  )\n",
      "  (layer2): Sequential(\n",
      "    (0): Conv2d(32, 64, kernel_size=(3, 3), stride=(1, 1))\n",
      "  )\n",
      "  (dropout1): Dropout2d(p=0.25, inplace=False)\n",
      "  (dropout2): Dropout2d(p=0.5, inplace=False)\n",
      "  (fc1): Linear(in_features=9216, out_features=128, bias=True)\n",
      "  (fc2): Linear(in_features=128, out_features=10, bias=True)\n",
      ")\n"
     ]
    }
   ],
   "source": [
    "model = Net()\n",
    "print(model)"
   ]
  },
  {
   "cell_type": "markdown",
   "id": "33bf9d15",
   "metadata": {},
   "source": [
    "#### Define a Loss function and optimizer"
   ]
  },
  {
   "cell_type": "code",
   "execution_count": 23,
   "id": "15fdbf0b",
   "metadata": {},
   "outputs": [],
   "source": [
    "# defining the loss function\n",
    "criterion = nn.CrossEntropyLoss()\n",
    "# checking if GPU is available\n",
    "if torch.cuda.is_available():\n",
    "    model = model.cuda()\n",
    "    criterion = criterion.cuda()\n",
    "\n",
    "# defining the optimizer\n",
    "optimizer = optim.SGD(model.parameters(), lr=0.001, momentum=0.9)    "
   ]
  },
  {
   "cell_type": "markdown",
   "id": "3b9c1050",
   "metadata": {},
   "source": [
    "#### Train the network"
   ]
  },
  {
   "cell_type": "code",
   "execution_count": 24,
   "id": "3afdc6a5",
   "metadata": {},
   "outputs": [],
   "source": [
    "def train(epoch):\n",
    "    model.train()\n",
    "    tr_loss = 0\n",
    "    # getting the training set\n",
    "    x_train, y_train = Variable(X_train), Variable(Y_train)\n",
    "    # getting the validation set\n",
    "    x_val, y_val = Variable(X_test), Variable(Y_test)\n",
    "    # converting the data into GPU format\n",
    "    if torch.cuda.is_available():\n",
    "        x_train = x_train.cuda()\n",
    "        y_train = y_train.cuda()\n",
    "        x_val = x_val.cuda()\n",
    "        y_val = y_val.cuda()\n",
    "\n",
    "    # clearing the Gradients of the model parameters\n",
    "    optimizer.zero_grad()\n",
    "    \n",
    "    # prediction for training and validation set\n",
    "    output_train = model(x_train)\n",
    "    output_val = model(x_val)\n",
    "\n",
    "    # computing the training and validation loss\n",
    "    y_train = y_train.type(torch.LongTensor).cuda()\n",
    "    y_val = y_val.type(torch.LongTensor).cuda()\n",
    "    loss_train = criterion(output_train, y_train)\n",
    "    loss_val = criterion(output_val, y_val)\n",
    "    train_losses.append(loss_train)\n",
    "    val_losses.append(loss_val)\n",
    "\n",
    "    # computing the updated weights of all the model parameters\n",
    "    loss_train.backward()\n",
    "    optimizer.step()\n",
    "    tr_loss = loss_train.item()\n",
    "    if epoch%2 == 0:\n",
    "        # printing the validation loss\n",
    "        print('Epoch : ',epoch+1, '\\t', 'loss :', loss_val)"
   ]
  },
  {
   "cell_type": "code",
   "execution_count": 25,
   "id": "c2f53b9a",
   "metadata": {},
   "outputs": [
    {
     "name": "stdout",
     "output_type": "stream",
     "text": [
      "Epoch :  1 \t loss : tensor(21.0995, device='cuda:0', grad_fn=<NllLossBackward0>)\n",
      "Epoch :  3 \t loss : tensor(6.1148, device='cuda:0', grad_fn=<NllLossBackward0>)\n",
      "Epoch :  5 \t loss : tensor(2.4630, device='cuda:0', grad_fn=<NllLossBackward0>)\n",
      "Epoch :  7 \t loss : tensor(2.2677, device='cuda:0', grad_fn=<NllLossBackward0>)\n",
      "Epoch :  9 \t loss : tensor(2.2910, device='cuda:0', grad_fn=<NllLossBackward0>)\n",
      "Epoch :  11 \t loss : tensor(2.3190, device='cuda:0', grad_fn=<NllLossBackward0>)\n",
      "Epoch :  13 \t loss : tensor(2.4455, device='cuda:0', grad_fn=<NllLossBackward0>)\n",
      "Epoch :  15 \t loss : tensor(2.3241, device='cuda:0', grad_fn=<NllLossBackward0>)\n",
      "Epoch :  17 \t loss : tensor(2.3151, device='cuda:0', grad_fn=<NllLossBackward0>)\n",
      "Epoch :  19 \t loss : tensor(2.3206, device='cuda:0', grad_fn=<NllLossBackward0>)\n",
      "Epoch :  21 \t loss : tensor(2.2917, device='cuda:0', grad_fn=<NllLossBackward0>)\n",
      "Epoch :  23 \t loss : tensor(2.2963, device='cuda:0', grad_fn=<NllLossBackward0>)\n",
      "Epoch :  25 \t loss : tensor(2.2969, device='cuda:0', grad_fn=<NllLossBackward0>)\n"
     ]
    }
   ],
   "source": [
    "# defining the number of epochs\n",
    "n_epochs = 25\n",
    "# empty list to store training losses\n",
    "train_losses = []\n",
    "# empty list to store validation losses\n",
    "val_losses = []\n",
    "# training the model\n",
    "for epoch in range(n_epochs):\n",
    "    train(epoch)"
   ]
  },
  {
   "cell_type": "code",
   "execution_count": 26,
   "id": "cd917be2",
   "metadata": {},
   "outputs": [],
   "source": [
    "train_losses_values = []\n",
    "val_losses_values = []\n",
    "for i in train_losses:\n",
    "    train_losses_values.append(i.item())\n",
    "for i in val_losses:\n",
    "    val_losses_values.append(i.item())"
   ]
  },
  {
   "cell_type": "code",
   "execution_count": 27,
   "id": "8fdcdae9",
   "metadata": {},
   "outputs": [
    {
     "data": {
      "image/png": "[encoded data removed]",
      "text/plain": [
       "<Figure size 432x288 with 1 Axes>"
      ]
     },
     "metadata": {
      "needs_background": "light"
     },
     "output_type": "display_data"
    }
   ],
   "source": [
    "# plotting the training and validation loss\n",
    "plt.plot(train_losses_values, label='Training loss')\n",
    "plt.plot(val_losses_values, label='Validation loss')\n",
    "plt.legend()\n",
    "plt.show()"
   ]
  },
  {
   "cell_type": "markdown",
   "id": "61d59ece",
   "metadata": {},
   "source": [
    "#### check the accuracy of the model"
   ]
  },
  {
   "cell_type": "code",
   "execution_count": 28,
   "id": "d0b36f81",
   "metadata": {},
   "outputs": [
    {
     "data": {
      "text/plain": [
       "0.1388888888888889"
      ]
     },
     "execution_count": 28,
     "metadata": {},
     "output_type": "execute_result"
    }
   ],
   "source": [
    "# prediction for training set\n",
    "with torch.no_grad():\n",
    "    output = model(X_train.cuda())\n",
    "    \n",
    "softmax = torch.exp(output).cpu()\n",
    "prob = list(softmax.numpy())\n",
    "predictions = np.argmax(prob, axis=1)\n",
    "\n",
    "# accuracy on training set\n",
    "accuracy_score(Y_train, predictions)"
   ]
  },
  {
   "cell_type": "code",
   "execution_count": 29,
   "id": "e47da506",
   "metadata": {},
   "outputs": [
    {
     "data": {
      "text/plain": [
       "0.05555555555555555"
      ]
     },
     "execution_count": 29,
     "metadata": {},
     "output_type": "execute_result"
    }
   ],
   "source": [
    "# prediction for validation set\n",
    "with torch.no_grad():\n",
    "    output = model(X_test.cuda())\n",
    "\n",
    "softmax = torch.exp(output).cpu()\n",
    "prob = list(softmax.numpy())\n",
    "predictions = np.argmax(prob, axis=1)\n",
    "\n",
    "# accuracy on validation set\n",
    "accuracy_score(Y_test, predictions)"
   ]
  },
  {
   "cell_type": "code",
   "execution_count": null,
   "id": "c1a177b7",
   "metadata": {},
   "outputs": [],
   "source": []
  },
  {
   "cell_type": "code",
   "execution_count": null,
   "id": "640435d9",
   "metadata": {},
   "outputs": [],
   "source": []
  }
 ],
 "metadata": {
  "kernelspec": {
   "display_name": "Python 3",
   "language": "python",
   "name": "python3"
  },
  "language_info": {
   "codemirror_mode": {
    "name": "ipython",
    "version": 3
   },
   "file_extension": ".py",
   "mimetype": "text/x-python",
   "name": "python",
   "nbconvert_exporter": "python",
   "pygments_lexer": "ipython3",
   "version": "3.8.8"
  }
 },
 "nbformat": 4,
 "nbformat_minor": 5
}
